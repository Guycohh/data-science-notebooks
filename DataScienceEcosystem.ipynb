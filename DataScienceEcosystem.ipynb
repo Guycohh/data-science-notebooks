{
 "cells": [
  {
   "cell_type": "markdown",
   "id": "8a7fe49d-a4ae-4c2b-9673-0529d0dab23e",
   "metadata": {},
   "source": [
    "#  Data Science Tools and Ecosystem using H1 style heading"
   ]
  },
  {
   "cell_type": "markdown",
   "id": "ae1c38ef-3ff7-4f57-a0c6-ead6abc13ac4",
   "metadata": {},
   "source": [
    "In this notebook, Data Science Tools and Ecosystem are summarized."
   ]
  },
  {
   "cell_type": "markdown",
   "id": "c8078773-8c36-4c01-8bf4-997a133180a1",
   "metadata": {},
   "source": [
    "**Objectives:**\n",
    "\n",
    "- List popular languages used in Data Science.\n",
    "- Libraries, API'S, Datasets and Models.\n",
    "- Cloud Based Tools for Data Science.\n",
    "- Plotting in RStudio.\n",
    "\n",
    "## Author\n",
    "\n",
    "Guy Cohen\n"
   ]
  },
  {
   "cell_type": "markdown",
   "id": "787ff937-f874-4a16-85cb-5906a17e908c",
   "metadata": {},
   "source": [
    "Some of the popular languages that Data Scientists use are:\n",
    "1. Python\n",
    "2. R\n",
    "3. SQL"
   ]
  },
  {
   "cell_type": "markdown",
   "id": "ca4a534c-10eb-4d70-8b2a-91d9251ffd18",
   "metadata": {},
   "source": [
    "Some of the commonly used libraries used by Data Scientists include:\n",
    "1. Pandas\n",
    "2. NumPy\n",
    "3. Sckit-learn\n"
   ]
  },
  {
   "cell_type": "markdown",
   "id": "688c5e0c-aef3-4d2c-a88e-ee581dc9abea",
   "metadata": {},
   "source": [
    "| Data Science Tools |\n",
    "|--------------------|\n",
    "| Jupyter Notebook   |\n",
    "| RStudio            |\n",
    "| Apache Zeppelin    |\n",
    "\n",
    "### Below are a few examples of evaluating arithmetic expressions in Python."
   ]
  },
  {
   "cell_type": "code",
   "execution_count": 4,
   "id": "3fb3f854-778f-4a90-a709-850dfefade99",
   "metadata": {},
   "outputs": [
    {
     "data": {
      "text/plain": [
       "17"
      ]
     },
     "execution_count": 4,
     "metadata": {},
     "output_type": "execute_result"
    }
   ],
   "source": [
    "# This is a simple arithmetic expression to multiply then add integers\n",
    "(3*4)+5"
   ]
  },
  {
   "cell_type": "code",
   "execution_count": 5,
   "id": "b961b4cf-c87e-499b-b5ef-80664a7ccf9e",
   "metadata": {},
   "outputs": [
    {
     "data": {
      "text/plain": [
       "3.3333333333333335"
      ]
     },
     "execution_count": 5,
     "metadata": {},
     "output_type": "execute_result"
    }
   ],
   "source": [
    "# This will convert 200 minutes to hours by diving by 60.\n",
    "minutes = 200\n",
    "hours = minutes / 60\n",
    "hours"
   ]
  },
  {
   "cell_type": "code",
   "execution_count": null,
   "id": "17896d37-b69d-45ec-b716-bdd1be458af7",
   "metadata": {},
   "outputs": [],
   "source": []
  }
 ],
 "metadata": {
  "kernelspec": {
   "display_name": "Python 3 (ipykernel)",
   "language": "python",
   "name": "python3"
  },
  "language_info": {
   "codemirror_mode": {
    "name": "ipython",
    "version": 3
   },
   "file_extension": ".py",
   "mimetype": "text/x-python",
   "name": "python",
   "nbconvert_exporter": "python",
   "pygments_lexer": "ipython3",
   "version": "3.11.9"
  }
 },
 "nbformat": 4,
 "nbformat_minor": 5
}
